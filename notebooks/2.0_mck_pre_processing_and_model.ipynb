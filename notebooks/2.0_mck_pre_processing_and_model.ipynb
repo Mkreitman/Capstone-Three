{
 "cells": [
  {
   "cell_type": "code",
   "execution_count": 1,
   "id": "e33ddba1-bfc5-4f1c-822a-9f4ce925afa7",
   "metadata": {},
   "outputs": [],
   "source": [
    "from skimage.io import ImageCollection, imread\n",
    "from skimage.transform import resize\n",
    "import os\n",
    "import numpy as np\n",
    "from torch.utils.data import Dataset, DataLoader, TensorDataset, random_split\n",
    "from PIL import Image\n",
    "from sklearn.preprocessing import LabelEncoder\n",
    "import torch\n",
    "from torch.nn import BCEWithLogitsLoss\n",
    "from torchvision import transforms, datasets, models\n",
    "from torchvision.transforms import Lambda\n",
    "from fastai.data.core import DataLoaders\n",
    "from fastai.vision.all import *\n",
    "from pyxtend import struct\n",
    "from pathlib import Path\n",
    "from sklearn.model_selection import train_test_split\n",
    "from sklearn.metrics import confusion_matrix\n",
    "import seaborn as sns\n",
    "import matplotlib.pyplot as plt\n",
    "from sklearn.metrics import precision_score, recall_score"
   ]
  },
  {
   "cell_type": "markdown",
   "id": "b29213c8-4f8e-4612-9e36-245289a2c589",
   "metadata": {},
   "source": [
    "## Rebuilding the file_paths list to continue pre-processing."
   ]
  },
  {
   "cell_type": "code",
   "execution_count": 2,
   "id": "363e7c02-1c18-45e5-8cbf-87c01760f39e",
   "metadata": {},
   "outputs": [
    {
     "name": "stdout",
     "output_type": "stream",
     "text": [
      "Number of images loaded into file_paths: 3400\n"
     ]
    }
   ],
   "source": [
    "parent_directory = '/Users/maxwellkreitman/Desktop/Springboard/Capstone Three/Mushrooms'\n",
    "\n",
    "subdirectories = [subdir for subdir in os.listdir(parent_directory) if os.path.isdir(os.path.join(parent_directory, subdir)) and not subdir.startswith(\".\")]\n",
    "\n",
    "# List to store the image file paths\n",
    "file_paths = []\n",
    "\n",
    "for subdirectory in subdirectories:\n",
    "    # Construct the folder path\n",
    "    subdirectory_path = os.path.join(parent_directory, subdirectory)\n",
    "    \n",
    "    # Get the image file paths in the subdirectory\n",
    "    image_files = [os.path.join(subdirectory_path, file) for file in os.listdir(subdirectory_path) if file.endswith(('.jpg', '.jpeg', '.png'))]\n",
    "    \n",
    "    # Extend the file_paths list with the image file paths\n",
    "    file_paths.extend(image_files)\n",
    "\n",
    "# Print the number of images loaded\n",
    "print(f\"Number of images loaded into file_paths: {len(file_paths)}\")\n",
    "\n",
    "image_paths = [Path(path) for path in file_paths]"
   ]
  },
  {
   "cell_type": "code",
   "execution_count": 3,
   "id": "212f2301-9312-4dc8-a815-9d0a345a4277",
   "metadata": {},
   "outputs": [
    {
     "name": "stdout",
     "output_type": "stream",
     "text": [
      "Size of label folder:  3400\n",
      "Unique entries:  {'edible', 'poisonous'}\n"
     ]
    }
   ],
   "source": [
    "labels = []\n",
    "for file_path in file_paths:\n",
    "    filename = os.path.basename(file_path)\n",
    "    if filename.startswith(\"edible\"):\n",
    "        labels.append(\"edible\")\n",
    "    elif filename.startswith(\"poisonous\"):\n",
    "        labels.append(\"poisonous\")\n",
    "    else:\n",
    "        labels.append(\"unknown\")\n",
    "\n",
    "print(\"Size of label folder: \", len(labels))\n",
    "print(\"Unique entries: \", set(labels))"
   ]
  },
  {
   "cell_type": "code",
   "execution_count": 4,
   "id": "686be261-6e32-464f-b553-61929a61c135",
   "metadata": {},
   "outputs": [
    {
     "name": "stdout",
     "output_type": "stream",
     "text": [
      "Unique Extensions: {'jpg'}\n"
     ]
    }
   ],
   "source": [
    "extensions = set()\n",
    "\n",
    "for file_path in file_paths:\n",
    "    extension = file_path.split('.')[-1]  # Extract the file extension\n",
    "    extensions.add(extension)\n",
    "\n",
    "print(\"Unique Extensions:\", extensions)"
   ]
  },
  {
   "cell_type": "markdown",
   "id": "3e7fc13a-2516-46f6-937c-ae2141b11686",
   "metadata": {},
   "source": [
    "## Creating the FastAi DataLoaders from my data."
   ]
  },
  {
   "cell_type": "code",
   "execution_count": 5,
   "id": "1b129f23-d282-4de3-8cf4-7745d8448749",
   "metadata": {},
   "outputs": [
    {
     "name": "stdout",
     "output_type": "stream",
     "text": [
      "2720\n"
     ]
    }
   ],
   "source": [
    "# Making dataframe of from file_paths, labels\n",
    "data = list(zip(file_paths, labels))\n",
    "df = pd.DataFrame(data, columns=['col_1', 'col_2'])\n",
    "\n",
    "# First, we split the data into training+validation set and test set.\n",
    "train_val_df, test_df = train_test_split(df, test_size=0.2, random_state=42)\n",
    "\n",
    "#verifying the number of file path & label pairs in data.  Also looking at the first five entries.\n",
    "print(len(train_val_df))"
   ]
  },
  {
   "cell_type": "code",
   "execution_count": 6,
   "id": "76aa03b6-7f96-4412-b35c-d5aeb84b161d",
   "metadata": {},
   "outputs": [
    {
     "data": {
      "text/html": [
       "<div>\n",
       "<style scoped>\n",
       "    .dataframe tbody tr th:only-of-type {\n",
       "        vertical-align: middle;\n",
       "    }\n",
       "\n",
       "    .dataframe tbody tr th {\n",
       "        vertical-align: top;\n",
       "    }\n",
       "\n",
       "    .dataframe thead th {\n",
       "        text-align: right;\n",
       "    }\n",
       "</style>\n",
       "<table border=\"1\" class=\"dataframe\">\n",
       "  <thead>\n",
       "    <tr style=\"text-align: right;\">\n",
       "      <th></th>\n",
       "      <th>col_1</th>\n",
       "      <th>col_2</th>\n",
       "    </tr>\n",
       "  </thead>\n",
       "  <tbody>\n",
       "    <tr>\n",
       "      <th>3392</th>\n",
       "      <td>/Users/maxwellkreitman/Desktop/Springboard/Capstone Three/Mushrooms/edible_sporocarp/edible_sporocarp (191).jpg</td>\n",
       "      <td>edible</td>\n",
       "    </tr>\n",
       "    <tr>\n",
       "      <th>2167</th>\n",
       "      <td>/Users/maxwellkreitman/Desktop/Springboard/Capstone Three/Mushrooms/poisonous_sporocarp/poisonous_sporocarp (1280).jpg</td>\n",
       "      <td>poisonous</td>\n",
       "    </tr>\n",
       "    <tr>\n",
       "      <th>3066</th>\n",
       "      <td>/Users/maxwellkreitman/Desktop/Springboard/Capstone Three/Mushrooms/edible_sporocarp/edible_sporocarp (462).jpg</td>\n",
       "      <td>edible</td>\n",
       "    </tr>\n",
       "    <tr>\n",
       "      <th>2387</th>\n",
       "      <td>/Users/maxwellkreitman/Desktop/Springboard/Capstone Three/Mushrooms/poisonous_sporocarp/poisonous_sporocarp (28).jpg</td>\n",
       "      <td>poisonous</td>\n",
       "    </tr>\n",
       "    <tr>\n",
       "      <th>2905</th>\n",
       "      <td>/Users/maxwellkreitman/Desktop/Springboard/Capstone Three/Mushrooms/poisonous_sporocarp/poisonous_sporocarp (1271).jpg</td>\n",
       "      <td>poisonous</td>\n",
       "    </tr>\n",
       "  </tbody>\n",
       "</table>\n",
       "</div>"
      ],
      "text/plain": [
       "                                                                                                                       col_1  \\\n",
       "3392         /Users/maxwellkreitman/Desktop/Springboard/Capstone Three/Mushrooms/edible_sporocarp/edible_sporocarp (191).jpg   \n",
       "2167  /Users/maxwellkreitman/Desktop/Springboard/Capstone Three/Mushrooms/poisonous_sporocarp/poisonous_sporocarp (1280).jpg   \n",
       "3066         /Users/maxwellkreitman/Desktop/Springboard/Capstone Three/Mushrooms/edible_sporocarp/edible_sporocarp (462).jpg   \n",
       "2387    /Users/maxwellkreitman/Desktop/Springboard/Capstone Three/Mushrooms/poisonous_sporocarp/poisonous_sporocarp (28).jpg   \n",
       "2905  /Users/maxwellkreitman/Desktop/Springboard/Capstone Three/Mushrooms/poisonous_sporocarp/poisonous_sporocarp (1271).jpg   \n",
       "\n",
       "          col_2  \n",
       "3392     edible  \n",
       "2167  poisonous  \n",
       "3066     edible  \n",
       "2387  poisonous  \n",
       "2905  poisonous  "
      ]
     },
     "execution_count": 6,
     "metadata": {},
     "output_type": "execute_result"
    }
   ],
   "source": [
    "train_val_df.head()"
   ]
  },
  {
   "cell_type": "code",
   "execution_count": 7,
   "id": "d19fed9a-3b69-4799-89bc-74391b9250eb",
   "metadata": {},
   "outputs": [],
   "source": [
    "# Define function to get image file paths\n",
    "def get_x(row):\n",
    "    return row['col_1']\n",
    "\n",
    "# Define function to get labels\n",
    "def get_y(row):\n",
    "    return row['col_2']\n",
    "\n",
    "# Creating a DataBlock\n",
    "dblock = DataBlock(blocks=(ImageBlock, CategoryBlock),\n",
    "                   get_x = get_x,\n",
    "                   get_y = get_y,\n",
    "                   splitter=RandomSplitter(valid_pct=0.2, seed=40),\n",
    "                   item_tfms=Resize(128))\n",
    "\n",
    "# Create a DataLoaders object using the DataBlock\n",
    "dls = dblock.dataloaders(train_val_df)"
   ]
  },
  {
   "cell_type": "code",
   "execution_count": 8,
   "id": "c168d8f5-98ba-493a-ba8a-995d8c5883a8",
   "metadata": {},
   "outputs": [
    {
     "name": "stdout",
     "output_type": "stream",
     "text": [
      "DataLoaders object is not empty.\n",
      "DataLoaders contains 2 instances.\n"
     ]
    }
   ],
   "source": [
    "if len(dls) > 0:\n",
    "    print(\"DataLoaders object is not empty.\")\n",
    "else:\n",
    "    print(\"DataLoaders object is empty.\")\n",
    "\n",
    "print(\"DataLoaders contains\", len(dls), \"instances.\")"
   ]
  },
  {
   "cell_type": "code",
   "execution_count": 9,
   "id": "c22bda9d-d44b-4c80-8694-8db8fc4578d6",
   "metadata": {},
   "outputs": [
    {
     "name": "stdout",
     "output_type": "stream",
     "text": [
      "34\n",
      "9\n"
     ]
    }
   ],
   "source": [
    "print(len(dls.train))\n",
    "print(len(dls.valid))"
   ]
  },
  {
   "cell_type": "markdown",
   "id": "a0e67aa6-ad5b-4efb-a313-dc9c3310f7cb",
   "metadata": {},
   "source": [
    "## Training the model on my FastAi DataLoaders object."
   ]
  },
  {
   "cell_type": "code",
   "execution_count": 10,
   "id": "19d8aca6-dca8-46c3-9b1a-9f5f1e93cd83",
   "metadata": {},
   "outputs": [
    {
     "name": "stderr",
     "output_type": "stream",
     "text": [
      "/Users/maxwellkreitman/miniconda3/lib/python3.10/site-packages/torchvision/models/_utils.py:208: UserWarning: The parameter 'pretrained' is deprecated since 0.13 and may be removed in the future, please use 'weights' instead.\n",
      "  warnings.warn(\n",
      "/Users/maxwellkreitman/miniconda3/lib/python3.10/site-packages/torchvision/models/_utils.py:223: UserWarning: Arguments other than a weight enum or `None` for 'weights' are deprecated since 0.13 and may be removed in the future. The current behavior is equivalent to passing `weights=ResNet34_Weights.IMAGENET1K_V1`. You can also use `weights=ResNet34_Weights.DEFAULT` to get the most up-to-date weights.\n",
      "  warnings.warn(msg)\n"
     ]
    },
    {
     "data": {
      "text/html": [
       "\n",
       "<style>\n",
       "    /* Turns off some styling */\n",
       "    progress {\n",
       "        /* gets rid of default border in Firefox and Opera. */\n",
       "        border: none;\n",
       "        /* Needs to be in here for Safari polyfill so background images work as expected. */\n",
       "        background-size: auto;\n",
       "    }\n",
       "    progress:not([value]), progress:not([value])::-webkit-progress-bar {\n",
       "        background: repeating-linear-gradient(45deg, #7e7e7e, #7e7e7e 10px, #5c5c5c 10px, #5c5c5c 20px);\n",
       "    }\n",
       "    .progress-bar-interrupted, .progress-bar-interrupted::-webkit-progress-bar {\n",
       "        background: #F44336;\n",
       "    }\n",
       "</style>\n"
      ],
      "text/plain": [
       "<IPython.core.display.HTML object>"
      ]
     },
     "metadata": {},
     "output_type": "display_data"
    },
    {
     "data": {
      "text/html": [],
      "text/plain": [
       "<IPython.core.display.HTML object>"
      ]
     },
     "metadata": {},
     "output_type": "display_data"
    },
    {
     "data": {
      "text/html": [
       "\n",
       "<style>\n",
       "    /* Turns off some styling */\n",
       "    progress {\n",
       "        /* gets rid of default border in Firefox and Opera. */\n",
       "        border: none;\n",
       "        /* Needs to be in here for Safari polyfill so background images work as expected. */\n",
       "        background-size: auto;\n",
       "    }\n",
       "    progress:not([value]), progress:not([value])::-webkit-progress-bar {\n",
       "        background: repeating-linear-gradient(45deg, #7e7e7e, #7e7e7e 10px, #5c5c5c 10px, #5c5c5c 20px);\n",
       "    }\n",
       "    .progress-bar-interrupted, .progress-bar-interrupted::-webkit-progress-bar {\n",
       "        background: #F44336;\n",
       "    }\n",
       "</style>\n"
      ],
      "text/plain": [
       "<IPython.core.display.HTML object>"
      ]
     },
     "metadata": {},
     "output_type": "display_data"
    },
    {
     "data": {
      "text/html": [
       "<table border=\"1\" class=\"dataframe\">\n",
       "  <thead>\n",
       "    <tr style=\"text-align: left;\">\n",
       "      <th>epoch</th>\n",
       "      <th>train_loss</th>\n",
       "      <th>valid_loss</th>\n",
       "      <th>precision_score</th>\n",
       "      <th>recall_score</th>\n",
       "      <th>time</th>\n",
       "    </tr>\n",
       "  </thead>\n",
       "  <tbody>\n",
       "    <tr>\n",
       "      <td>0</td>\n",
       "      <td>1.034712</td>\n",
       "      <td>1.706136</td>\n",
       "      <td>0.694165</td>\n",
       "      <td>[0.15083799 0.94520548]</td>\n",
       "      <td>00:17</td>\n",
       "    </tr>\n",
       "    <tr>\n",
       "      <td>1</td>\n",
       "      <td>0.784716</td>\n",
       "      <td>0.690517</td>\n",
       "      <td>0.863946</td>\n",
       "      <td>[0.77653631 0.69589041]</td>\n",
       "      <td>00:18</td>\n",
       "    </tr>\n",
       "    <tr>\n",
       "      <td>2</td>\n",
       "      <td>0.637967</td>\n",
       "      <td>0.564080</td>\n",
       "      <td>0.833803</td>\n",
       "      <td>[0.67039106 0.8109589 ]</td>\n",
       "      <td>00:17</td>\n",
       "    </tr>\n",
       "    <tr>\n",
       "      <td>3</td>\n",
       "      <td>0.494150</td>\n",
       "      <td>0.543230</td>\n",
       "      <td>0.825000</td>\n",
       "      <td>[0.64804469 0.81369863]</td>\n",
       "      <td>00:17</td>\n",
       "    </tr>\n",
       "  </tbody>\n",
       "</table>"
      ],
      "text/plain": [
       "<IPython.core.display.HTML object>"
      ]
     },
     "metadata": {},
     "output_type": "display_data"
    },
    {
     "data": {
      "image/png": "[encoded data removed]",
      "text/plain": [
       "<Figure size 600x400 with 1 Axes>"
      ]
     },
     "metadata": {},
     "output_type": "display_data"
    },
    {
     "data": {
      "text/html": [
       "\n",
       "<style>\n",
       "    /* Turns off some styling */\n",
       "    progress {\n",
       "        /* gets rid of default border in Firefox and Opera. */\n",
       "        border: none;\n",
       "        /* Needs to be in here for Safari polyfill so background images work as expected. */\n",
       "        background-size: auto;\n",
       "    }\n",
       "    progress:not([value]), progress:not([value])::-webkit-progress-bar {\n",
       "        background: repeating-linear-gradient(45deg, #7e7e7e, #7e7e7e 10px, #5c5c5c 10px, #5c5c5c 20px);\n",
       "    }\n",
       "    .progress-bar-interrupted, .progress-bar-interrupted::-webkit-progress-bar {\n",
       "        background: #F44336;\n",
       "    }\n",
       "</style>\n"
      ],
      "text/plain": [
       "<IPython.core.display.HTML object>"
      ]
     },
     "metadata": {},
     "output_type": "display_data"
    },
    {
     "data": {
      "text/html": [],
      "text/plain": [
       "<IPython.core.display.HTML object>"
      ]
     },
     "metadata": {},
     "output_type": "display_data"
    },
    {
     "data": {
      "text/plain": [
       "(#3) [0.5432303547859192,0.825,array([0.64804469, 0.81369863])]"
      ]
     },
     "execution_count": 10,
     "metadata": {},
     "output_type": "execute_result"
    },
    {
     "data": {
      "image/png": "[encoded data removed]",
      "text/plain": [
       "<Figure size 640x480 with 1 Axes>"
      ]
     },
     "metadata": {},
     "output_type": "display_data"
    }
   ],
   "source": [
    "\n",
    "# Creating a model\n",
    "model = vision_learner(dls, resnet34, metrics=[Precision(), Recall(average=None)], cbs=ShowGraphCallback())\n",
    "\n",
    "# Finding the optimal learning rate\n",
    "model.lr_find()\n",
    "\n",
    "# Training the model\n",
    "model.fit_one_cycle(4, 1e-2)\n",
    "\n",
    "# Evaluating the model on the validation set\n",
    "model.validate()"
   ]
  },
  {
   "cell_type": "markdown",
   "id": "d13e2ce5-91e3-49a5-b82c-081b5e628c62",
   "metadata": {},
   "source": [
    "## Moving onto predictions with the test set."
   ]
  },
  {
   "cell_type": "code",
   "execution_count": 11,
   "id": "bf489a48-e859-48f4-8eae-0c3a46f51cba",
   "metadata": {},
   "outputs": [
    {
     "data": {
      "text/html": [
       "<div>\n",
       "<style scoped>\n",
       "    .dataframe tbody tr th:only-of-type {\n",
       "        vertical-align: middle;\n",
       "    }\n",
       "\n",
       "    .dataframe tbody tr th {\n",
       "        vertical-align: top;\n",
       "    }\n",
       "\n",
       "    .dataframe thead th {\n",
       "        text-align: right;\n",
       "    }\n",
       "</style>\n",
       "<table border=\"1\" class=\"dataframe\">\n",
       "  <thead>\n",
       "    <tr style=\"text-align: right;\">\n",
       "      <th></th>\n",
       "      <th>col_1</th>\n",
       "      <th>col_2</th>\n",
       "    </tr>\n",
       "  </thead>\n",
       "  <tbody>\n",
       "    <tr>\n",
       "      <th>291</th>\n",
       "      <td>/Users/maxwellkreitman/Desktop/Springboard/Capstone Three/Mushrooms/edible_mushroom_sporocarp/edible_mushroom_sporocarp (368).jpg</td>\n",
       "      <td>edible</td>\n",
       "    </tr>\n",
       "    <tr>\n",
       "      <th>755</th>\n",
       "      <td>/Users/maxwellkreitman/Desktop/Springboard/Capstone Three/Mushrooms/poisonous_mushroom_sporocarp/poisonous_mushroom_sporocarp (293).jpg</td>\n",
       "      <td>poisonous</td>\n",
       "    </tr>\n",
       "    <tr>\n",
       "      <th>2096</th>\n",
       "      <td>/Users/maxwellkreitman/Desktop/Springboard/Capstone Three/Mushrooms/poisonous_sporocarp/poisonous_sporocarp (660).jpg</td>\n",
       "      <td>poisonous</td>\n",
       "    </tr>\n",
       "    <tr>\n",
       "      <th>432</th>\n",
       "      <td>/Users/maxwellkreitman/Desktop/Springboard/Capstone Three/Mushrooms/edible_mushroom_sporocarp/edible_mushroom_sporocarp (428).jpg</td>\n",
       "      <td>edible</td>\n",
       "    </tr>\n",
       "    <tr>\n",
       "      <th>479</th>\n",
       "      <td>/Users/maxwellkreitman/Desktop/Springboard/Capstone Three/Mushrooms/edible_mushroom_sporocarp/edible_mushroom_sporocarp (281).jpg</td>\n",
       "      <td>edible</td>\n",
       "    </tr>\n",
       "  </tbody>\n",
       "</table>\n",
       "</div>"
      ],
      "text/plain": [
       "                                                                                                                                        col_1  \\\n",
       "291         /Users/maxwellkreitman/Desktop/Springboard/Capstone Three/Mushrooms/edible_mushroom_sporocarp/edible_mushroom_sporocarp (368).jpg   \n",
       "755   /Users/maxwellkreitman/Desktop/Springboard/Capstone Three/Mushrooms/poisonous_mushroom_sporocarp/poisonous_mushroom_sporocarp (293).jpg   \n",
       "2096                    /Users/maxwellkreitman/Desktop/Springboard/Capstone Three/Mushrooms/poisonous_sporocarp/poisonous_sporocarp (660).jpg   \n",
       "432         /Users/maxwellkreitman/Desktop/Springboard/Capstone Three/Mushrooms/edible_mushroom_sporocarp/edible_mushroom_sporocarp (428).jpg   \n",
       "479         /Users/maxwellkreitman/Desktop/Springboard/Capstone Three/Mushrooms/edible_mushroom_sporocarp/edible_mushroom_sporocarp (281).jpg   \n",
       "\n",
       "          col_2  \n",
       "291      edible  \n",
       "755   poisonous  \n",
       "2096  poisonous  \n",
       "432      edible  \n",
       "479      edible  "
      ]
     },
     "execution_count": 11,
     "metadata": {},
     "output_type": "execute_result"
    }
   ],
   "source": [
    "test_df.head()"
   ]
  },
  {
   "cell_type": "code",
   "execution_count": 12,
   "id": "0d58da0f-f23b-4694-918f-70ae91008eac",
   "metadata": {},
   "outputs": [
    {
     "data": {
      "text/html": [
       "\n",
       "<style>\n",
       "    /* Turns off some styling */\n",
       "    progress {\n",
       "        /* gets rid of default border in Firefox and Opera. */\n",
       "        border: none;\n",
       "        /* Needs to be in here for Safari polyfill so background images work as expected. */\n",
       "        background-size: auto;\n",
       "    }\n",
       "    progress:not([value]), progress:not([value])::-webkit-progress-bar {\n",
       "        background: repeating-linear-gradient(45deg, #7e7e7e, #7e7e7e 10px, #5c5c5c 10px, #5c5c5c 20px);\n",
       "    }\n",
       "    .progress-bar-interrupted, .progress-bar-interrupted::-webkit-progress-bar {\n",
       "        background: #F44336;\n",
       "    }\n",
       "</style>\n"
      ],
      "text/plain": [
       "<IPython.core.display.HTML object>"
      ]
     },
     "metadata": {},
     "output_type": "display_data"
    },
    {
     "data": {
      "text/html": [],
      "text/plain": [
       "<IPython.core.display.HTML object>"
      ]
     },
     "metadata": {},
     "output_type": "display_data"
    }
   ],
   "source": [
    "#Creating a dataloader from test df\n",
    "test_dl = dls.test_dl(test_df)\n",
    "\n",
    "#Gathering predictions\n",
    "predictions, _ = model.get_preds(dl=test_dl)"
   ]
  },
  {
   "cell_type": "code",
   "execution_count": 13,
   "id": "57132af5-87e8-45ca-9986-a13020660823",
   "metadata": {},
   "outputs": [],
   "source": [
    "#Building a tensor with the predicted classes for each instance in your test set.\n",
    "predicted_classes = predictions.argmax(dim=1)"
   ]
  },
  {
   "cell_type": "code",
   "execution_count": 14,
   "id": "13d13318-7ea2-405a-b2e4-af6e4b28f655",
   "metadata": {},
   "outputs": [],
   "source": [
    "#Building a tensor with the encoded labels of test_df\n",
    "actual_classes = torch.tensor([dls.vocab.o2i[label] for label in test_df['col_2']])"
   ]
  },
  {
   "cell_type": "code",
   "execution_count": 15,
   "id": "6bd2d139-1164-4bb8-b7c0-00e357d06237",
   "metadata": {},
   "outputs": [
    {
     "name": "stdout",
     "output_type": "stream",
     "text": [
      "The order of values in the precision and recall returns is: ['edible', 'poisonous']\n",
      "Precision:  [0.73109244 0.80316742]\n",
      "Recall:  [0.66666667 0.84725537]\n",
      "Accuracy: 0.7779411673545837\n"
     ]
    }
   ],
   "source": [
    "# Calculate precision and recall\n",
    "precision = precision_score(actual_classes, predicted_classes, average=None)\n",
    "recall = recall_score(actual_classes, predicted_classes, average=None)\n",
    "\n",
    "print(\"The order of values in the precision and recall returns is:\", dls.vocab)\n",
    "print(\"Precision: \", precision)\n",
    "print(\"Recall: \", recall)\n",
    "\n",
    "\n",
    "#Calculating accuracy of model with test_df\n",
    "accuracy = (predicted_classes == actual_classes).float().mean()\n",
    "print(f'Accuracy: {accuracy}')"
   ]
  },
  {
   "cell_type": "markdown",
   "id": "efc78bd0-dd2b-4866-a89c-2e7e9b7c38db",
   "metadata": {},
   "source": [
    "## It's most important for human safetly to correctly identify what's poisonous.  Look to the second value in the precision and recall calculations.\n",
    "\n",
    "\n",
    "## The precision of poisonous mushrooms tells us that the model was successful 79% of the time over all its predicitions of poisonous mushrooms. 21% of the model's predictions for poisonous mushrooms were actually edible.\n",
    "\n",
    "## The recall of poisonous mushrooms tells us that the model's poisonous mushroom predicitions covered 82.5% of all actual poisonous mushrooms."
   ]
  },
  {
   "cell_type": "markdown",
   "id": "ce88dfa8-9528-4cc2-90f2-20a266e91194",
   "metadata": {},
   "source": [
    "## Now I'm interested in improving the model by tring out larger image resizing first, then different pre-trained model from torchvision with more layers."
   ]
  },
  {
   "cell_type": "code",
   "execution_count": 16,
   "id": "952111a5-4854-4403-8cab-014ad3fe01e6",
   "metadata": {},
   "outputs": [],
   "source": [
    "# Define function to get image file paths\n",
    "def get_x(row):\n",
    "    return row['col_1']\n",
    "\n",
    "# Define function to get labels\n",
    "def get_y(row):\n",
    "    return row['col_2']\n",
    "\n",
    "# Creating a DataBlock\n",
    "dblock2 = DataBlock(blocks=(ImageBlock, CategoryBlock),\n",
    "                   get_x = get_x,\n",
    "                   get_y = get_y,\n",
    "                   splitter=RandomSplitter(valid_pct=0.2, seed=40),\n",
    "                   item_tfms=Resize(224)) #Changed from 128 pixels to 224 pixels\n",
    "\n",
    "# Create a DataLoaders object using the DataBlock\n",
    "dls_2 = dblock2.dataloaders(train_val_df)"
   ]
  },
  {
   "cell_type": "code",
   "execution_count": 17,
   "id": "5718eddd-9747-4704-b59a-6c5c49b29e86",
   "metadata": {},
   "outputs": [
    {
     "name": "stderr",
     "output_type": "stream",
     "text": [
      "/Users/maxwellkreitman/miniconda3/lib/python3.10/site-packages/torchvision/models/_utils.py:208: UserWarning: The parameter 'pretrained' is deprecated since 0.13 and may be removed in the future, please use 'weights' instead.\n",
      "  warnings.warn(\n",
      "/Users/maxwellkreitman/miniconda3/lib/python3.10/site-packages/torchvision/models/_utils.py:223: UserWarning: Arguments other than a weight enum or `None` for 'weights' are deprecated since 0.13 and may be removed in the future. The current behavior is equivalent to passing `weights=ResNet34_Weights.IMAGENET1K_V1`. You can also use `weights=ResNet34_Weights.DEFAULT` to get the most up-to-date weights.\n",
      "  warnings.warn(msg)\n"
     ]
    },
    {
     "data": {
      "text/html": [
       "\n",
       "<style>\n",
       "    /* Turns off some styling */\n",
       "    progress {\n",
       "        /* gets rid of default border in Firefox and Opera. */\n",
       "        border: none;\n",
       "        /* Needs to be in here for Safari polyfill so background images work as expected. */\n",
       "        background-size: auto;\n",
       "    }\n",
       "    progress:not([value]), progress:not([value])::-webkit-progress-bar {\n",
       "        background: repeating-linear-gradient(45deg, #7e7e7e, #7e7e7e 10px, #5c5c5c 10px, #5c5c5c 20px);\n",
       "    }\n",
       "    .progress-bar-interrupted, .progress-bar-interrupted::-webkit-progress-bar {\n",
       "        background: #F44336;\n",
       "    }\n",
       "</style>\n"
      ],
      "text/plain": [
       "<IPython.core.display.HTML object>"
      ]
     },
     "metadata": {},
     "output_type": "display_data"
    },
    {
     "data": {
      "text/html": [],
      "text/plain": [
       "<IPython.core.display.HTML object>"
      ]
     },
     "metadata": {},
     "output_type": "display_data"
    },
    {
     "data": {
      "text/html": [
       "\n",
       "<style>\n",
       "    /* Turns off some styling */\n",
       "    progress {\n",
       "        /* gets rid of default border in Firefox and Opera. */\n",
       "        border: none;\n",
       "        /* Needs to be in here for Safari polyfill so background images work as expected. */\n",
       "        background-size: auto;\n",
       "    }\n",
       "    progress:not([value]), progress:not([value])::-webkit-progress-bar {\n",
       "        background: repeating-linear-gradient(45deg, #7e7e7e, #7e7e7e 10px, #5c5c5c 10px, #5c5c5c 20px);\n",
       "    }\n",
       "    .progress-bar-interrupted, .progress-bar-interrupted::-webkit-progress-bar {\n",
       "        background: #F44336;\n",
       "    }\n",
       "</style>\n"
      ],
      "text/plain": [
       "<IPython.core.display.HTML object>"
      ]
     },
     "metadata": {},
     "output_type": "display_data"
    },
    {
     "data": {
      "text/html": [
       "<table border=\"1\" class=\"dataframe\">\n",
       "  <thead>\n",
       "    <tr style=\"text-align: left;\">\n",
       "      <th>epoch</th>\n",
       "      <th>train_loss</th>\n",
       "      <th>valid_loss</th>\n",
       "      <th>precision_score</th>\n",
       "      <th>recall_score</th>\n",
       "      <th>time</th>\n",
       "    </tr>\n",
       "  </thead>\n",
       "  <tbody>\n",
       "    <tr>\n",
       "      <td>0</td>\n",
       "      <td>1.002490</td>\n",
       "      <td>0.895864</td>\n",
       "      <td>0.746377</td>\n",
       "      <td>[0.41340782 0.84657534]</td>\n",
       "      <td>00:35</td>\n",
       "    </tr>\n",
       "    <tr>\n",
       "      <td>1</td>\n",
       "      <td>0.777751</td>\n",
       "      <td>0.536440</td>\n",
       "      <td>0.795970</td>\n",
       "      <td>[0.54748603 0.86575342]</td>\n",
       "      <td>00:37</td>\n",
       "    </tr>\n",
       "    <tr>\n",
       "      <td>2</td>\n",
       "      <td>0.601333</td>\n",
       "      <td>0.447965</td>\n",
       "      <td>0.834211</td>\n",
       "      <td>[0.64804469 0.86849315]</td>\n",
       "      <td>03:40</td>\n",
       "    </tr>\n",
       "    <tr>\n",
       "      <td>3</td>\n",
       "      <td>0.448319</td>\n",
       "      <td>0.429897</td>\n",
       "      <td>0.871148</td>\n",
       "      <td>[0.74301676 0.85205479]</td>\n",
       "      <td>00:35</td>\n",
       "    </tr>\n",
       "  </tbody>\n",
       "</table>"
      ],
      "text/plain": [
       "<IPython.core.display.HTML object>"
      ]
     },
     "metadata": {},
     "output_type": "display_data"
    },
    {
     "data": {
      "image/png": "[encoded data removed]",
      "text/plain": [
       "<Figure size 600x400 with 1 Axes>"
      ]
     },
     "metadata": {},
     "output_type": "display_data"
    },
    {
     "data": {
      "text/html": [
       "\n",
       "<style>\n",
       "    /* Turns off some styling */\n",
       "    progress {\n",
       "        /* gets rid of default border in Firefox and Opera. */\n",
       "        border: none;\n",
       "        /* Needs to be in here for Safari polyfill so background images work as expected. */\n",
       "        background-size: auto;\n",
       "    }\n",
       "    progress:not([value]), progress:not([value])::-webkit-progress-bar {\n",
       "        background: repeating-linear-gradient(45deg, #7e7e7e, #7e7e7e 10px, #5c5c5c 10px, #5c5c5c 20px);\n",
       "    }\n",
       "    .progress-bar-interrupted, .progress-bar-interrupted::-webkit-progress-bar {\n",
       "        background: #F44336;\n",
       "    }\n",
       "</style>\n"
      ],
      "text/plain": [
       "<IPython.core.display.HTML object>"
      ]
     },
     "metadata": {},
     "output_type": "display_data"
    },
    {
     "data": {
      "text/html": [],
      "text/plain": [
       "<IPython.core.display.HTML object>"
      ]
     },
     "metadata": {},
     "output_type": "display_data"
    },
    {
     "data": {
      "text/plain": [
       "(#3) [0.429897278547287,0.8711484593837535,array([0.74301676, 0.85205479])]"
      ]
     },
     "execution_count": 17,
     "metadata": {},
     "output_type": "execute_result"
    },
    {
     "data": {
      "image/png": "[encoded data removed]",
      "text/plain": [
       "<Figure size 640x480 with 1 Axes>"
      ]
     },
     "metadata": {},
     "output_type": "display_data"
    }
   ],
   "source": [
    "# Creating a model\n",
    "model_2 = vision_learner(dls_2, resnet34, metrics=[Precision(), Recall(average=None)], cbs=ShowGraphCallback())\n",
    "\n",
    "# Finding the optimal learning rate\n",
    "model_2.lr_find()\n",
    "\n",
    "# Training the model\n",
    "model_2.fit_one_cycle(4, 1e-2)\n",
    "\n",
    "# Evaluating the model on the validation set\n",
    "model_2.validate()"
   ]
  },
  {
   "cell_type": "code",
   "execution_count": 18,
   "id": "214a7e3e-4d92-4fb1-bc30-70ef2f67805f",
   "metadata": {},
   "outputs": [
    {
     "data": {
      "text/html": [
       "\n",
       "<style>\n",
       "    /* Turns off some styling */\n",
       "    progress {\n",
       "        /* gets rid of default border in Firefox and Opera. */\n",
       "        border: none;\n",
       "        /* Needs to be in here for Safari polyfill so background images work as expected. */\n",
       "        background-size: auto;\n",
       "    }\n",
       "    progress:not([value]), progress:not([value])::-webkit-progress-bar {\n",
       "        background: repeating-linear-gradient(45deg, #7e7e7e, #7e7e7e 10px, #5c5c5c 10px, #5c5c5c 20px);\n",
       "    }\n",
       "    .progress-bar-interrupted, .progress-bar-interrupted::-webkit-progress-bar {\n",
       "        background: #F44336;\n",
       "    }\n",
       "</style>\n"
      ],
      "text/plain": [
       "<IPython.core.display.HTML object>"
      ]
     },
     "metadata": {},
     "output_type": "display_data"
    },
    {
     "data": {
      "text/html": [],
      "text/plain": [
       "<IPython.core.display.HTML object>"
      ]
     },
     "metadata": {},
     "output_type": "display_data"
    },
    {
     "name": "stdout",
     "output_type": "stream",
     "text": [
      "The order of values in the precision and recall returns is: ['edible', 'poisonous']\n",
      "Precision:  [0.74008811 0.79470199]\n",
      "Recall:  [0.64367816 0.85918854]\n",
      "Accuracy: 0.7764706015586853\n"
     ]
    }
   ],
   "source": [
    "#Creating a dataloader from test df\n",
    "test_dl_2 = dls_2.test_dl(test_df)\n",
    "\n",
    "predictions, _ = model_2.get_preds(dl=test_dl_2)\n",
    "predicted_classes = predictions.argmax(dim=1)\n",
    "actual_classes = torch.tensor([dls_2.vocab.o2i[label] for label in test_df['col_2']])\n",
    "\n",
    "# Calculate precision and recall\n",
    "precision_2 = precision_score(actual_classes, predicted_classes, average=None)\n",
    "recall_2 = recall_score(actual_classes, predicted_classes, average=None)\n",
    "\n",
    "print(\"The order of values in the precision and recall returns is:\", dls_2.vocab)\n",
    "print(\"Precision: \", precision_2)\n",
    "print(\"Recall: \", recall_2)\n",
    "\n",
    "#Calculating accuracy of model with test_df\n",
    "accuracy = (predicted_classes == actual_classes).float().mean()\n",
    "print(f'Accuracy: {accuracy}')"
   ]
  },
  {
   "cell_type": "markdown",
   "id": "679c4ae9-9615-4d1f-ac9f-b89bcdf6d009",
   "metadata": {},
   "source": [
    "## The increase in image size resulted in slightly improved recall of both classes."
   ]
  },
  {
   "cell_type": "markdown",
   "id": "eee82d60-5821-40ac-a5f9-9d41a72deb70",
   "metadata": {},
   "source": [
    "## Now let's try a resnet pre-trained model with 50 layers with the original dataloader \"dls\" with image resize of 128 pixels."
   ]
  },
  {
   "cell_type": "code",
   "execution_count": 19,
   "id": "a7c0ad86-4af6-497f-9472-59c71f0bb032",
   "metadata": {},
   "outputs": [
    {
     "name": "stderr",
     "output_type": "stream",
     "text": [
      "/Users/maxwellkreitman/miniconda3/lib/python3.10/site-packages/torchvision/models/_utils.py:208: UserWarning: The parameter 'pretrained' is deprecated since 0.13 and may be removed in the future, please use 'weights' instead.\n",
      "  warnings.warn(\n",
      "/Users/maxwellkreitman/miniconda3/lib/python3.10/site-packages/torchvision/models/_utils.py:223: UserWarning: Arguments other than a weight enum or `None` for 'weights' are deprecated since 0.13 and may be removed in the future. The current behavior is equivalent to passing `weights=ResNet50_Weights.IMAGENET1K_V1`. You can also use `weights=ResNet50_Weights.DEFAULT` to get the most up-to-date weights.\n",
      "  warnings.warn(msg)\n"
     ]
    },
    {
     "data": {
      "text/html": [
       "\n",
       "<style>\n",
       "    /* Turns off some styling */\n",
       "    progress {\n",
       "        /* gets rid of default border in Firefox and Opera. */\n",
       "        border: none;\n",
       "        /* Needs to be in here for Safari polyfill so background images work as expected. */\n",
       "        background-size: auto;\n",
       "    }\n",
       "    progress:not([value]), progress:not([value])::-webkit-progress-bar {\n",
       "        background: repeating-linear-gradient(45deg, #7e7e7e, #7e7e7e 10px, #5c5c5c 10px, #5c5c5c 20px);\n",
       "    }\n",
       "    .progress-bar-interrupted, .progress-bar-interrupted::-webkit-progress-bar {\n",
       "        background: #F44336;\n",
       "    }\n",
       "</style>\n"
      ],
      "text/plain": [
       "<IPython.core.display.HTML object>"
      ]
     },
     "metadata": {},
     "output_type": "display_data"
    },
    {
     "data": {
      "text/html": [],
      "text/plain": [
       "<IPython.core.display.HTML object>"
      ]
     },
     "metadata": {},
     "output_type": "display_data"
    },
    {
     "data": {
      "text/html": [
       "\n",
       "<style>\n",
       "    /* Turns off some styling */\n",
       "    progress {\n",
       "        /* gets rid of default border in Firefox and Opera. */\n",
       "        border: none;\n",
       "        /* Needs to be in here for Safari polyfill so background images work as expected. */\n",
       "        background-size: auto;\n",
       "    }\n",
       "    progress:not([value]), progress:not([value])::-webkit-progress-bar {\n",
       "        background: repeating-linear-gradient(45deg, #7e7e7e, #7e7e7e 10px, #5c5c5c 10px, #5c5c5c 20px);\n",
       "    }\n",
       "    .progress-bar-interrupted, .progress-bar-interrupted::-webkit-progress-bar {\n",
       "        background: #F44336;\n",
       "    }\n",
       "</style>\n"
      ],
      "text/plain": [
       "<IPython.core.display.HTML object>"
      ]
     },
     "metadata": {},
     "output_type": "display_data"
    },
    {
     "data": {
      "text/html": [
       "<table border=\"1\" class=\"dataframe\">\n",
       "  <thead>\n",
       "    <tr style=\"text-align: left;\">\n",
       "      <th>epoch</th>\n",
       "      <th>train_loss</th>\n",
       "      <th>valid_loss</th>\n",
       "      <th>precision_score</th>\n",
       "      <th>recall_score</th>\n",
       "      <th>time</th>\n",
       "    </tr>\n",
       "  </thead>\n",
       "  <tbody>\n",
       "    <tr>\n",
       "      <td>0</td>\n",
       "      <td>1.042761</td>\n",
       "      <td>1.005499</td>\n",
       "      <td>0.713684</td>\n",
       "      <td>[0.24022346 0.92876712]</td>\n",
       "      <td>00:27</td>\n",
       "    </tr>\n",
       "    <tr>\n",
       "      <td>1</td>\n",
       "      <td>0.765568</td>\n",
       "      <td>0.629498</td>\n",
       "      <td>0.746606</td>\n",
       "      <td>[0.37430168 0.90410959]</td>\n",
       "      <td>00:27</td>\n",
       "    </tr>\n",
       "    <tr>\n",
       "      <td>2</td>\n",
       "      <td>0.594200</td>\n",
       "      <td>0.478642</td>\n",
       "      <td>0.833780</td>\n",
       "      <td>[0.65363128 0.85205479]</td>\n",
       "      <td>00:26</td>\n",
       "    </tr>\n",
       "    <tr>\n",
       "      <td>3</td>\n",
       "      <td>0.435454</td>\n",
       "      <td>0.466091</td>\n",
       "      <td>0.845304</td>\n",
       "      <td>[0.68715084 0.83835616]</td>\n",
       "      <td>00:27</td>\n",
       "    </tr>\n",
       "  </tbody>\n",
       "</table>"
      ],
      "text/plain": [
       "<IPython.core.display.HTML object>"
      ]
     },
     "metadata": {},
     "output_type": "display_data"
    },
    {
     "data": {
      "image/png": "[encoded data removed]",
      "text/plain": [
       "<Figure size 600x400 with 1 Axes>"
      ]
     },
     "metadata": {},
     "output_type": "display_data"
    },
    {
     "data": {
      "text/html": [
       "\n",
       "<style>\n",
       "    /* Turns off some styling */\n",
       "    progress {\n",
       "        /* gets rid of default border in Firefox and Opera. */\n",
       "        border: none;\n",
       "        /* Needs to be in here for Safari polyfill so background images work as expected. */\n",
       "        background-size: auto;\n",
       "    }\n",
       "    progress:not([value]), progress:not([value])::-webkit-progress-bar {\n",
       "        background: repeating-linear-gradient(45deg, #7e7e7e, #7e7e7e 10px, #5c5c5c 10px, #5c5c5c 20px);\n",
       "    }\n",
       "    .progress-bar-interrupted, .progress-bar-interrupted::-webkit-progress-bar {\n",
       "        background: #F44336;\n",
       "    }\n",
       "</style>\n"
      ],
      "text/plain": [
       "<IPython.core.display.HTML object>"
      ]
     },
     "metadata": {},
     "output_type": "display_data"
    },
    {
     "data": {
      "text/html": [],
      "text/plain": [
       "<IPython.core.display.HTML object>"
      ]
     },
     "metadata": {},
     "output_type": "display_data"
    },
    {
     "data": {
      "text/plain": [
       "(#3) [0.46609050035476685,0.8453038674033149,array([0.68715084, 0.83835616])]"
      ]
     },
     "execution_count": 19,
     "metadata": {},
     "output_type": "execute_result"
    },
    {
     "data": {
      "image/png": "[encoded data removed]",
      "text/plain": [
       "<Figure size 640x480 with 1 Axes>"
      ]
     },
     "metadata": {},
     "output_type": "display_data"
    }
   ],
   "source": [
    "# Creating a model\n",
    "model_3 = vision_learner(dls, resnet50, metrics=[Precision(), Recall(average=None)], cbs=ShowGraphCallback())\n",
    "\n",
    "# Finding the optimal learning rate\n",
    "model_3.lr_find()\n",
    "\n",
    "# Training the model\n",
    "model_3.fit_one_cycle(4, 1e-2)\n",
    "\n",
    "# Evaluating the model on the validation set\n",
    "model_3.validate()"
   ]
  },
  {
   "cell_type": "code",
   "execution_count": 20,
   "id": "819e714b-1648-4538-b8bc-2c68f65688db",
   "metadata": {},
   "outputs": [
    {
     "data": {
      "text/html": [
       "\n",
       "<style>\n",
       "    /* Turns off some styling */\n",
       "    progress {\n",
       "        /* gets rid of default border in Firefox and Opera. */\n",
       "        border: none;\n",
       "        /* Needs to be in here for Safari polyfill so background images work as expected. */\n",
       "        background-size: auto;\n",
       "    }\n",
       "    progress:not([value]), progress:not([value])::-webkit-progress-bar {\n",
       "        background: repeating-linear-gradient(45deg, #7e7e7e, #7e7e7e 10px, #5c5c5c 10px, #5c5c5c 20px);\n",
       "    }\n",
       "    .progress-bar-interrupted, .progress-bar-interrupted::-webkit-progress-bar {\n",
       "        background: #F44336;\n",
       "    }\n",
       "</style>\n"
      ],
      "text/plain": [
       "<IPython.core.display.HTML object>"
      ]
     },
     "metadata": {},
     "output_type": "display_data"
    },
    {
     "data": {
      "text/html": [],
      "text/plain": [
       "<IPython.core.display.HTML object>"
      ]
     },
     "metadata": {},
     "output_type": "display_data"
    },
    {
     "name": "stdout",
     "output_type": "stream",
     "text": [
      "The order of values in the precision and recall returns is: ['edible', 'poisonous']\n",
      "Precision:  [0.712      0.80697674]\n",
      "Recall:  [0.68199234 0.82816229]\n",
      "Accuracy: 0.7720588445663452\n"
     ]
    }
   ],
   "source": [
    "#Creating a dataloader from test df\n",
    "test_dl_3 = dls.test_dl(test_df)\n",
    "\n",
    "predictions, _ = model_3.get_preds(dl=test_dl_3)\n",
    "predicted_classes = predictions.argmax(dim=1)\n",
    "actual_classes = torch.tensor([dls.vocab.o2i[label] for label in test_df['col_2']])\n",
    "\n",
    "# Calculate precision and recall\n",
    "precision_3 = precision_score(actual_classes, predicted_classes, average=None)\n",
    "recall_3 = recall_score(actual_classes, predicted_classes, average=None)\n",
    "\n",
    "print(\"The order of values in the precision and recall returns is:\", dls.vocab)\n",
    "print(\"Precision: \", precision_3)\n",
    "print(\"Recall: \", recall_3)\n",
    "\n",
    "#Calculating accuracy of model with test_df\n",
    "accuracy = (predicted_classes == actual_classes).float().mean()\n",
    "print(f'Accuracy: {accuracy}')"
   ]
  },
  {
   "cell_type": "markdown",
   "id": "28796fd6-58dc-46ae-9182-7fe1b985a57d",
   "metadata": {},
   "source": [
    "## Improved precision and recall!"
   ]
  },
  {
   "cell_type": "markdown",
   "id": "a1b0f530-6d0c-48b5-902a-909c2f9ead73",
   "metadata": {},
   "source": [
    "## When I tried to combine pre-trained 50 layer model with increased image size, the operating timed out after many hours of waiting."
   ]
  },
  {
   "cell_type": "code",
   "execution_count": 34,
   "id": "b2706279-d22f-4c92-ae74-5a8e50cb2b4f",
   "metadata": {},
   "outputs": [
    {
     "data": {
      "image/png": "[encoded data removed]",
      "text/plain": [
       "<Figure size 600x800 with 1 Axes>"
      ]
     },
     "metadata": {},
     "output_type": "display_data"
    }
   ],
   "source": [
    "categories = ['Resnet34 and 128 pixel images', 'Resnet34 and 224 pixel images', 'Resnet50 with 128 pixel images']\n",
    "\n",
    "# Precision and recall values for each category\n",
    "precision_values = [precision[1], precision_2[1], precision_3[1]]\n",
    "recall_values = [recall[1], recall_2[1], recall_3[1]]\n",
    "\n",
    "\n",
    "r1 = np.arange(len(precision_values))\n",
    "r2 = [x + 0.25 for x in r1]  # 0.25 represents the width of the bars\n",
    "\n",
    "plt.figure(figsize=(6, 8))\n",
    "\n",
    "# Creating the vertical bars\n",
    "bars1 = plt.bar(r1, precision_values, color='b', edgecolor='grey', width=0.25, label='Precision')\n",
    "bars2 = plt.bar(r2, recall_values, color='r', edgecolor='grey', width=0.25, label='Recall')\n",
    "\n",
    "# Adding labels and title\n",
    "plt.xlabel(\"Models\")\n",
    "plt.xticks([r + 0.125 for r in range(len(precision_values))], categories)  # Positioning the x-labels in the middle of the bars\n",
    "plt.xticks(rotation=45)\n",
    "plt.ylabel(\"Values\")\n",
    "plt.ylim([0, 1.1])\n",
    "plt.title(\"Precision and Recall for Models\")\n",
    "\n",
    "\n",
    "# Label with bar's height\n",
    "for bar in bars1:\n",
    "    yval = bar.get_height()\n",
    "    plt.text(bar.get_x() + bar.get_width() / 2, yval / 2, round(yval, 2), va='center', ha='center', color='white')\n",
    "\n",
    "for bar in bars2:\n",
    "    yval = bar.get_height()\n",
    "    plt.text(bar.get_x() + bar.get_width() / 2, yval / 2, round(yval, 2), va='center', ha='center', color='white')\n",
    "\n",
    "plt.legend()\n",
    "\n",
    "plt.show()\n",
    "\n",
    "\n",
    "\n"
   ]
  },
  {
   "cell_type": "markdown",
   "id": "b120129e-227f-4b6b-be3d-c0f83f6b5399",
   "metadata": {},
   "source": [
    "## If our goal is to have the best success over predicitions of poisonous mushrooms, the model with Resnet50 and 128 pixel images performed best with 81%.\n",
    "\n",
    "## If our goal is to have the most coverage of correct predictions of poisonous mushrooms, the model with Resnet34 and 224 pixel images performed best with 86%."
   ]
  },
  {
   "cell_type": "markdown",
   "id": "f7355e5b-170d-475e-857a-a9658fb286ab",
   "metadata": {},
   "source": [
    "## Let's look at their confusion matrices."
   ]
  },
  {
   "cell_type": "code",
   "execution_count": 37,
   "id": "e9a6563c-2139-4dbf-929d-5e096a849957",
   "metadata": {},
   "outputs": [
    {
     "data": {
      "text/html": [
       "\n",
       "<style>\n",
       "    /* Turns off some styling */\n",
       "    progress {\n",
       "        /* gets rid of default border in Firefox and Opera. */\n",
       "        border: none;\n",
       "        /* Needs to be in here for Safari polyfill so background images work as expected. */\n",
       "        background-size: auto;\n",
       "    }\n",
       "    progress:not([value]), progress:not([value])::-webkit-progress-bar {\n",
       "        background: repeating-linear-gradient(45deg, #7e7e7e, #7e7e7e 10px, #5c5c5c 10px, #5c5c5c 20px);\n",
       "    }\n",
       "    .progress-bar-interrupted, .progress-bar-interrupted::-webkit-progress-bar {\n",
       "        background: #F44336;\n",
       "    }\n",
       "</style>\n"
      ],
      "text/plain": [
       "<IPython.core.display.HTML object>"
      ]
     },
     "metadata": {},
     "output_type": "display_data"
    },
    {
     "data": {
      "text/html": [],
      "text/plain": [
       "<IPython.core.display.HTML object>"
      ]
     },
     "metadata": {},
     "output_type": "display_data"
    },
    {
     "data": {
      "text/html": [
       "\n",
       "<style>\n",
       "    /* Turns off some styling */\n",
       "    progress {\n",
       "        /* gets rid of default border in Firefox and Opera. */\n",
       "        border: none;\n",
       "        /* Needs to be in here for Safari polyfill so background images work as expected. */\n",
       "        background-size: auto;\n",
       "    }\n",
       "    progress:not([value]), progress:not([value])::-webkit-progress-bar {\n",
       "        background: repeating-linear-gradient(45deg, #7e7e7e, #7e7e7e 10px, #5c5c5c 10px, #5c5c5c 20px);\n",
       "    }\n",
       "    .progress-bar-interrupted, .progress-bar-interrupted::-webkit-progress-bar {\n",
       "        background: #F44336;\n",
       "    }\n",
       "</style>\n"
      ],
      "text/plain": [
       "<IPython.core.display.HTML object>"
      ]
     },
     "metadata": {},
     "output_type": "display_data"
    },
    {
     "data": {
      "text/html": [],
      "text/plain": [
       "<IPython.core.display.HTML object>"
      ]
     },
     "metadata": {},
     "output_type": "display_data"
    },
    {
     "data": {
      "text/html": [
       "\n",
       "<style>\n",
       "    /* Turns off some styling */\n",
       "    progress {\n",
       "        /* gets rid of default border in Firefox and Opera. */\n",
       "        border: none;\n",
       "        /* Needs to be in here for Safari polyfill so background images work as expected. */\n",
       "        background-size: auto;\n",
       "    }\n",
       "    progress:not([value]), progress:not([value])::-webkit-progress-bar {\n",
       "        background: repeating-linear-gradient(45deg, #7e7e7e, #7e7e7e 10px, #5c5c5c 10px, #5c5c5c 20px);\n",
       "    }\n",
       "    .progress-bar-interrupted, .progress-bar-interrupted::-webkit-progress-bar {\n",
       "        background: #F44336;\n",
       "    }\n",
       "</style>\n"
      ],
      "text/plain": [
       "<IPython.core.display.HTML object>"
      ]
     },
     "metadata": {},
     "output_type": "display_data"
    },
    {
     "data": {
      "text/html": [],
      "text/plain": [
       "<IPython.core.display.HTML object>"
      ]
     },
     "metadata": {},
     "output_type": "display_data"
    },
    {
     "data": {
      "text/html": [
       "\n",
       "<style>\n",
       "    /* Turns off some styling */\n",
       "    progress {\n",
       "        /* gets rid of default border in Firefox and Opera. */\n",
       "        border: none;\n",
       "        /* Needs to be in here for Safari polyfill so background images work as expected. */\n",
       "        background-size: auto;\n",
       "    }\n",
       "    progress:not([value]), progress:not([value])::-webkit-progress-bar {\n",
       "        background: repeating-linear-gradient(45deg, #7e7e7e, #7e7e7e 10px, #5c5c5c 10px, #5c5c5c 20px);\n",
       "    }\n",
       "    .progress-bar-interrupted, .progress-bar-interrupted::-webkit-progress-bar {\n",
       "        background: #F44336;\n",
       "    }\n",
       "</style>\n"
      ],
      "text/plain": [
       "<IPython.core.display.HTML object>"
      ]
     },
     "metadata": {},
     "output_type": "display_data"
    },
    {
     "data": {
      "text/html": [],
      "text/plain": [
       "<IPython.core.display.HTML object>"
      ]
     },
     "metadata": {},
     "output_type": "display_data"
    },
    {
     "data": {
      "text/html": [
       "\n",
       "<style>\n",
       "    /* Turns off some styling */\n",
       "    progress {\n",
       "        /* gets rid of default border in Firefox and Opera. */\n",
       "        border: none;\n",
       "        /* Needs to be in here for Safari polyfill so background images work as expected. */\n",
       "        background-size: auto;\n",
       "    }\n",
       "    progress:not([value]), progress:not([value])::-webkit-progress-bar {\n",
       "        background: repeating-linear-gradient(45deg, #7e7e7e, #7e7e7e 10px, #5c5c5c 10px, #5c5c5c 20px);\n",
       "    }\n",
       "    .progress-bar-interrupted, .progress-bar-interrupted::-webkit-progress-bar {\n",
       "        background: #F44336;\n",
       "    }\n",
       "</style>\n"
      ],
      "text/plain": [
       "<IPython.core.display.HTML object>"
      ]
     },
     "metadata": {},
     "output_type": "display_data"
    },
    {
     "data": {
      "text/html": [],
      "text/plain": [
       "<IPython.core.display.HTML object>"
      ]
     },
     "metadata": {},
     "output_type": "display_data"
    },
    {
     "data": {
      "text/html": [
       "\n",
       "<style>\n",
       "    /* Turns off some styling */\n",
       "    progress {\n",
       "        /* gets rid of default border in Firefox and Opera. */\n",
       "        border: none;\n",
       "        /* Needs to be in here for Safari polyfill so background images work as expected. */\n",
       "        background-size: auto;\n",
       "    }\n",
       "    progress:not([value]), progress:not([value])::-webkit-progress-bar {\n",
       "        background: repeating-linear-gradient(45deg, #7e7e7e, #7e7e7e 10px, #5c5c5c 10px, #5c5c5c 20px);\n",
       "    }\n",
       "    .progress-bar-interrupted, .progress-bar-interrupted::-webkit-progress-bar {\n",
       "        background: #F44336;\n",
       "    }\n",
       "</style>\n"
      ],
      "text/plain": [
       "<IPython.core.display.HTML object>"
      ]
     },
     "metadata": {},
     "output_type": "display_data"
    },
    {
     "data": {
      "text/html": [],
      "text/plain": [
       "<IPython.core.display.HTML object>"
      ]
     },
     "metadata": {},
     "output_type": "display_data"
    },
    {
     "data": {
      "image/png": "[encoded data removed]",
      "text/plain": [
       "<Figure size 640x480 with 1 Axes>"
      ]
     },
     "metadata": {},
     "output_type": "display_data"
    },
    {
     "data": {
      "image/png": "[encoded data removed]",
      "text/plain": [
       "<Figure size 640x480 with 1 Axes>"
      ]
     },
     "metadata": {},
     "output_type": "display_data"
    },
    {
     "data": {
      "image/png": "[encoded data removed]",
      "text/plain": [
       "<Figure size 640x480 with 1 Axes>"
      ]
     },
     "metadata": {},
     "output_type": "display_data"
    }
   ],
   "source": [
    "interp = ClassificationInterpretation.from_learner(model)\n",
    "interp_2 = ClassificationInterpretation.from_learner(model_2)\n",
    "interp_3 = ClassificationInterpretation.from_learner(model_3)\n",
    "# Plotting the confusion matrix\n",
    "interp.plot_confusion_matrix()\n",
    "interp_2.plot_confusion_matrix()\n",
    "interp_3.plot_confusion_matrix()"
   ]
  },
  {
   "cell_type": "markdown",
   "id": "ef248bc2-4070-4b59-8dcb-0d00cc1f2c29",
   "metadata": {},
   "source": [
    "## The clear winner here is the second model, using Resnet34 and 224 image pixels.  This model also had the highest recall score for the poisonous mushroom class."
   ]
  },
  {
   "cell_type": "code",
   "execution_count": null,
   "id": "0607189a-8e5e-47e3-b2f8-a0cf31e16e6a",
   "metadata": {},
   "outputs": [],
   "source": []
  }
 ],
 "metadata": {
  "kernelspec": {
   "display_name": "Python 3 (ipykernel)",
   "language": "python",
   "name": "python3"
  },
  "language_info": {
   "codemirror_mode": {
    "name": "ipython",
    "version": 3
   },
   "file_extension": ".py",
   "mimetype": "text/x-python",
   "name": "python",
   "nbconvert_exporter": "python",
   "pygments_lexer": "ipython3",
   "version": "3.10.8"
  }
 },
 "nbformat": 4,
 "nbformat_minor": 5
}
